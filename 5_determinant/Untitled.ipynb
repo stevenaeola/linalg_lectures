{
 "cells": [
  {
   "cell_type": "code",
   "execution_count": 1,
   "id": "663533b9",
   "metadata": {},
   "outputs": [],
   "source": [
    "import numpy as np\n",
    "import matplotlib.pyplot as plt"
   ]
  },
  {
   "cell_type": "code",
   "execution_count": 7,
   "id": "07e9d2e3",
   "metadata": {},
   "outputs": [
    {
     "ename": "NameError",
     "evalue": "name 'ax' is not defined",
     "output_type": "error",
     "traceback": [
      "\u001b[0;31m---------------------------------------------------------------------------\u001b[0m",
      "\u001b[0;31mNameError\u001b[0m                                 Traceback (most recent call last)",
      "Input \u001b[0;32mIn [7]\u001b[0m, in \u001b[0;36m<cell line: 25>\u001b[0;34m()\u001b[0m\n\u001b[1;32m     23\u001b[0m arr \u001b[38;5;241m=\u001b[39m [\u001b[38;5;241m2\u001b[39m,\u001b[38;5;241m3\u001b[39m]\n\u001b[1;32m     24\u001b[0m txt \u001b[38;5;241m=\u001b[39m \u001b[38;5;124m\"\u001b[39m\u001b[38;5;124mVector X\u001b[39m\u001b[38;5;124m\"\u001b[39m\n\u001b[0;32m---> 25\u001b[0m \u001b[43max\u001b[49m\u001b[38;5;241m.\u001b[39mannotate(txt, arr)\n\u001b[1;32m     26\u001b[0m ax\u001b[38;5;241m.\u001b[39marrow(\u001b[38;5;241m0\u001b[39m, \u001b[38;5;241m0\u001b[39m, \u001b[38;5;241m*\u001b[39marr, head_width\u001b[38;5;241m=\u001b[39m\u001b[38;5;241m0.05\u001b[39m, head_length\u001b[38;5;241m=\u001b[39m\u001b[38;5;241m0.1\u001b[39m)\n\u001b[1;32m     27\u001b[0m plt\u001b[38;5;241m.\u001b[39mshow()\n",
      "\u001b[0;31mNameError\u001b[0m: name 'ax' is not defined"
     ]
    },
    {
     "data": {
      "image/png": "[encoded data removed]",
      "text/plain": [
       "<Figure size 432x288 with 1 Axes>"
      ]
     },
     "metadata": {
      "needs_background": "light"
     },
     "output_type": "display_data"
    }
   ],
   "source": [
    "# adapted from https://stackoverflow.com/questions/42281966/how-to-plot-vectors-in-python-using-matplotlib\n",
    "\n",
    "M = np.array([[1,1],[-2,2],[4,-7]])\n",
    "\n",
    "rows,cols = M.T.shape\n",
    "\n",
    "#Get absolute maxes for axis ranges to center origin\n",
    "#This is optional\n",
    "maxes = 1.1*np.amax(abs(M), axis = 0)\n",
    "\n",
    "for i,l in enumerate(range(0,cols)):\n",
    "    xs = [0,M[i,0]]\n",
    "    ys = [0,M[i,1]]\n",
    "    plt.plot(xs,ys)\n",
    "\n",
    "plt.plot(0,0,'ok') #<-- plot a black point at the origin\n",
    "plt.axis('equal')  #<-- set the axes to the same scale\n",
    "plt.xlim([-maxes[0],maxes[0]]) #<-- set the x axis limits\n",
    "plt.ylim([-maxes[1],maxes[1]]) #<-- set the y axis limits\n",
    "plt.legend(['V'+str(i+1) for i in range(cols)]) #<-- give a legend\n",
    "plt.grid(visible=True, which='major') #<-- plot grid lines\n",
    "\n",
    "arr = [2,3]\n",
    "txt = \"Vector X\"\n",
    "ax.annotate(txt, arr)\n",
    "ax.arrow(0, 0, *arr, head_width=0.05, head_length=0.1)\n",
    "plt.show()"
   ]
  },
  {
   "cell_type": "code",
   "execution_count": 18,
   "id": "71f9313a",
   "metadata": {},
   "outputs": [],
   "source": [
    "import datetime as dt\n",
    "dt.datetime.today()\n",
    "\n",
    "import pandas as pd\n",
    "\n",
    "df = pd.DataFrame({\"score\": [1,2]})\n",
    "df[\"dateTime\"] = [dt.datetime.today(), dt.datetime.today()]\n",
    "dt1 = dt.datetime.now()"
   ]
  },
  {
   "cell_type": "code",
   "execution_count": 30,
   "id": "3311b675",
   "metadata": {},
   "outputs": [
    {
     "data": {
      "text/plain": [
       "250"
      ]
     },
     "execution_count": 30,
     "metadata": {},
     "output_type": "execute_result"
    }
   ],
   "source": [
    "dt2 = dt.datetime.now()\n",
    "(dt2-dt1).seconds"
   ]
  },
  {
   "cell_type": "code",
   "execution_count": 54,
   "id": "a2c6c945",
   "metadata": {},
   "outputs": [
    {
     "data": {
      "text/plain": [
       "1"
      ]
     },
     "execution_count": 54,
     "metadata": {},
     "output_type": "execute_result"
    }
   ],
   "source": [
    "import numpy as np\n",
    "arr = np.array([1,2,3])\n",
    "arr[0]\n",
    "np.ndim(arr)"
   ]
  }
 ],
 "metadata": {
  "kernelspec": {
   "display_name": "Python 3 (ipykernel)",
   "language": "python",
   "name": "python3"
  },
  "language_info": {
   "codemirror_mode": {
    "name": "ipython",
    "version": 3
   },
   "file_extension": ".py",
   "mimetype": "text/x-python",
   "name": "python",
   "nbconvert_exporter": "python",
   "pygments_lexer": "ipython3",
   "version": "3.9.12"
  }
 },
 "nbformat": 4,
 "nbformat_minor": 5
}
